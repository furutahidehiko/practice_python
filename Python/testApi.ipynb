{
 "cells": [
  {
   "cell_type": "code",
   "execution_count": 4,
   "id": "f0c01373-dd8f-459e-a0bf-b94bb2cc0a0f",
   "metadata": {},
   "outputs": [],
   "source": [
    "import requests"
   ]
  },
  {
   "cell_type": "code",
   "execution_count": 5,
   "id": "b33a538b-df92-47cc-be4b-3240f5e2a5bb",
   "metadata": {},
   "outputs": [],
   "source": [
    "url = \"https://jsonplaceholder.typicode.com/posts\""
   ]
  },
  {
   "cell_type": "code",
   "execution_count": 7,
   "id": "be287342-88c9-4289-85f9-011da78776b5",
   "metadata": {},
   "outputs": [],
   "source": [
    "res = requests.get(url)"
   ]
  },
  {
   "cell_type": "code",
   "execution_count": 8,
   "id": "374607dc-8643-49f5-b54a-1e506f8b2869",
   "metadata": {},
   "outputs": [
    {
     "data": {
      "text/plain": [
       "200"
      ]
     },
     "execution_count": 8,
     "metadata": {},
     "output_type": "execute_result"
    }
   ],
   "source": [
    "res.status_code"
   ]
  },
  {
   "cell_type": "code",
   "execution_count": 10,
   "id": "ea7fad7c-b171-444f-a0c0-91b63ea28620",
   "metadata": {},
   "outputs": [
    {
     "data": {
      "text/plain": [
       "{'userId': 1,\n",
       " 'id': 1,\n",
       " 'title': 'sunt aut facere repellat provident occaecati excepturi optio reprehenderit',\n",
       " 'body': 'quia et suscipit\\nsuscipit recusandae consequuntur expedita et cum\\nreprehenderit molestiae ut ut quas totam\\nnostrum rerum est autem sunt rem eveniet architecto'}"
      ]
     },
     "execution_count": 10,
     "metadata": {},
     "output_type": "execute_result"
    }
   ],
   "source": [
    "datum = res.json()[0]\n",
    "datum"
   ]
  },
  {
   "cell_type": "code",
   "execution_count": 11,
   "id": "70e471d1-0f23-4543-b893-de3c7fdef5f9",
   "metadata": {},
   "outputs": [
    {
     "data": {
      "text/plain": [
       "'quia et suscipit\\nsuscipit recusandae consequuntur expedita et cum\\nreprehenderit molestiae ut ut quas totam\\nnostrum rerum est autem sunt rem eveniet architecto'"
      ]
     },
     "execution_count": 11,
     "metadata": {},
     "output_type": "execute_result"
    }
   ],
   "source": [
    "datum['body']"
   ]
  },
  {
   "cell_type": "code",
   "execution_count": 13,
   "id": "c22a7e70-d557-429b-8b6e-4acd8ebaf62a",
   "metadata": {},
   "outputs": [
    {
     "data": {
      "text/plain": [
       "[{'userId': 1,\n",
       "  'id': 3,\n",
       "  'title': 'ea molestias quasi exercitationem repellat qui ipsa sit aut',\n",
       "  'body': 'et iusto sed quo iure\\nvoluptatem occaecati omnis eligendi aut ad\\nvoluptatem doloribus vel accusantium quis pariatur\\nmolestiae porro eius odio et labore et velit aut'}]"
      ]
     },
     "execution_count": 13,
     "metadata": {},
     "output_type": "execute_result"
    }
   ],
   "source": [
    "url = \"https://jsonplaceholder.typicode.com/posts\"\n",
    "\n",
    "parms = {\n",
    "    'id':3\n",
    "}\n",
    "\n",
    "res = requests.get(url,parms)\n",
    "res.json()"
   ]
  },
  {
   "cell_type": "code",
   "execution_count": null,
   "id": "01752df8-b033-4efe-9566-d388dc98da7f",
   "metadata": {},
   "outputs": [],
   "source": []
  }
 ],
 "metadata": {
  "kernelspec": {
   "display_name": "Python 3 (ipykernel)",
   "language": "python",
   "name": "python3"
  },
  "language_info": {
   "codemirror_mode": {
    "name": "ipython",
    "version": 3
   },
   "file_extension": ".py",
   "mimetype": "text/x-python",
   "name": "python",
   "nbconvert_exporter": "python",
   "pygments_lexer": "ipython3",
   "version": "3.8.17"
  }
 },
 "nbformat": 4,
 "nbformat_minor": 5
}
